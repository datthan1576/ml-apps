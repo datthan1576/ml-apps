{
 "cells": [
  {
   "cell_type": "markdown",
   "id": "f0718eff",
   "metadata": {},
   "source": [
    "## Controlling layout"
   ]
  },
  {
   "cell_type": "markdown",
   "id": "97d86328",
   "metadata": {},
   "source": [
    "By default, Components in Blocks are arranged vertically. Let's take a look at how we can rearrange Components. Under the hood, this layout structure uses the flexbox model of web development.\n",
    "https://developer.mozilla.org/en-US/docs/Web/CSS/CSS_Flexible_Box_Layout/Basic_Concepts_of_Flexbox"
   ]
  },
  {
   "cell_type": "markdown",
   "id": "e16acb3f",
   "metadata": {},
   "source": [
    "### Rows"
   ]
  },
  {
   "cell_type": "markdown",
   "id": "50b92489",
   "metadata": {},
   "source": [
    "Elements within a with gr.Row clause will all be displayed horizontally. For example, to display two Buttons side by side:"
   ]
  },
  {
   "cell_type": "code",
   "execution_count": 2,
   "id": "23f89a47",
   "metadata": {},
   "outputs": [
    {
     "name": "stdout",
     "output_type": "stream",
     "text": [
      "Running on local URL:  http://127.0.0.1:7860\n",
      "\n",
      "To create a public link, set `share=True` in `launch()`.\n"
     ]
    },
    {
     "data": {
      "text/html": [
       "<div><iframe src=\"http://127.0.0.1:7860/\" width=\"900\" height=\"500\" allow=\"autoplay; camera; microphone; clipboard-read; clipboard-write;\" frameborder=\"0\" allowfullscreen></iframe></div>"
      ],
      "text/plain": [
       "<IPython.core.display.HTML object>"
      ]
     },
     "metadata": {},
     "output_type": "display_data"
    },
    {
     "data": {
      "text/plain": [
       "(<gradio.routes.App at 0x7f020be395e0>, 'http://127.0.0.1:7860/', None)"
      ]
     },
     "execution_count": 2,
     "metadata": {},
     "output_type": "execute_result"
    }
   ],
   "source": [
    "import gradio as gr\n",
    "\n",
    "with gr.Blocks() as demo:\n",
    "    with gr.Row():\n",
    "        btn1 = gr.Button(\"Button 1\")\n",
    "        btn2 = gr.Button(\"Button 2\")\n",
    "\n",
    "demo.launch()"
   ]
  },
  {
   "cell_type": "code",
   "execution_count": 1,
   "id": "09c2813c",
   "metadata": {},
   "outputs": [
    {
     "name": "stdout",
     "output_type": "stream",
     "text": [
      "Running on local URL:  http://127.0.0.1:7861\n",
      "\n",
      "To create a public link, set `share=True` in `launch()`.\n"
     ]
    },
    {
     "data": {
      "text/html": [
       "<div><iframe src=\"http://127.0.0.1:7861/\" width=\"900\" height=\"500\" allow=\"autoplay; camera; microphone; clipboard-read; clipboard-write;\" frameborder=\"0\" allowfullscreen></iframe></div>"
      ],
      "text/plain": [
       "<IPython.core.display.HTML object>"
      ]
     },
     "metadata": {},
     "output_type": "display_data"
    },
    {
     "data": {
      "text/plain": [
       "(<gradio.routes.App at 0x7fa2a72394f0>, 'http://127.0.0.1:7861/', None)"
      ]
     },
     "execution_count": 1,
     "metadata": {},
     "output_type": "execute_result"
    }
   ],
   "source": [
    "# To make every element in a Row have the same height, use the equal_height argument.\n",
    "import gradio as gr\n",
    "\n",
    "with gr.Blocks() as demo:\n",
    "    with gr.Row(equal_height=True):\n",
    "        textbox = gr.Textbox()\n",
    "        btn2 = gr.Button(\"Button 2\")\n",
    "        \n",
    "demo.launch()"
   ]
  },
  {
   "cell_type": "markdown",
   "id": "e26f52f8",
   "metadata": {},
   "source": [
    "### Columns and Nesting"
   ]
  },
  {
   "cell_type": "markdown",
   "id": "041f72b1",
   "metadata": {},
   "source": [
    "Components within a Column will be placed vertically atop each other. Since the vertical layout is the default layout for Blocks apps anyway, to be useful, Columns are usually nested within Rows. For example:"
   ]
  },
  {
   "cell_type": "code",
   "execution_count": 3,
   "id": "a19fb4fd",
   "metadata": {},
   "outputs": [
    {
     "name": "stdout",
     "output_type": "stream",
     "text": [
      "Running on local URL:  http://127.0.0.1:7860\n",
      "\n",
      "To create a public link, set `share=True` in `launch()`.\n"
     ]
    },
    {
     "data": {
      "text/html": [
       "<div><iframe src=\"http://127.0.0.1:7860/\" width=\"900\" height=\"500\" allow=\"autoplay; camera; microphone; clipboard-read; clipboard-write;\" frameborder=\"0\" allowfullscreen></iframe></div>"
      ],
      "text/plain": [
       "<IPython.core.display.HTML object>"
      ]
     },
     "metadata": {},
     "output_type": "display_data"
    },
    {
     "data": {
      "text/plain": [
       "(<gradio.routes.App at 0x7f53a6b6ccd0>, 'http://127.0.0.1:7860/', None)"
      ]
     },
     "execution_count": 3,
     "metadata": {},
     "output_type": "execute_result"
    }
   ],
   "source": [
    "import gradio as gr\n",
    "\n",
    "with gr.Blocks() as demo:\n",
    "    with gr.Row():\n",
    "        text1 = gr.Textbox(label=\"t1\")\n",
    "        slider2 = gr.Textbox(label=\"s2\")\n",
    "        drop3 = gr.Dropdown([\"a\", \"b\", \"c\"], label=\"d3\")\n",
    "    with gr.Row():\n",
    "        with gr.Column(scale=1, min_width=600):\n",
    "            text1 = gr.Textbox(label=\"prompt 1\")\n",
    "            text2 = gr.Textbox(label=\"prompt 2\")\n",
    "            inbtw = gr.Button(\"Between\")\n",
    "            text4 = gr.Textbox(label=\"prompt 1\")\n",
    "            text5 = gr.Textbox(label=\"prompt 2\")\n",
    "        with gr.Column(scale=2, min_width=600):\n",
    "            img1 = gr.Image(\"images/panda.png\")\n",
    "            btn = gr.Button(\"Go\").style(full_width=True)\n",
    "\n",
    "demo.launch()"
   ]
  },
  {
   "cell_type": "markdown",
   "id": "45d56c31",
   "metadata": {},
   "source": [
    "See how the first column has two Textboxes arranged vertically. The second column has an Image and Button arranged vertically. Notice how the relative widths of the two columns is set by the scale parameter. The column with twice the scale value takes up twice the width.\n",
    "\n",
    "Columns have a min_width parameter as well (320 pixels by default). This prevents adjacent columns from becoming too narrow on mobile screens."
   ]
  },
  {
   "cell_type": "markdown",
   "id": "04188ec3",
   "metadata": {},
   "source": [
    "### Tabs and Accordions"
   ]
  },
  {
   "cell_type": "markdown",
   "id": "2c47de42",
   "metadata": {},
   "source": [
    "You can also create Tabs using the **with gradio.Tab('tab_name')**: clause. Any component created inside of a **with gradio.Tab('tab_name')**: context appears in that tab. Consecutive Tab clauses are grouped together so that a single tab can be selected at one time, and only the components within that Tab's context are shown.\n",
    "\n",
    "For example:"
   ]
  },
  {
   "cell_type": "code",
   "execution_count": 1,
   "id": "4c3207f1",
   "metadata": {},
   "outputs": [
    {
     "name": "stdout",
     "output_type": "stream",
     "text": [
      "Running on local URL:  http://127.0.0.1:7860\n",
      "\n",
      "To create a public link, set `share=True` in `launch()`.\n"
     ]
    },
    {
     "data": {
      "text/html": [
       "<div><iframe src=\"http://127.0.0.1:7860/\" width=\"900\" height=\"500\" allow=\"autoplay; camera; microphone; clipboard-read; clipboard-write;\" frameborder=\"0\" allowfullscreen></iframe></div>"
      ],
      "text/plain": [
       "<IPython.core.display.HTML object>"
      ]
     },
     "metadata": {},
     "output_type": "display_data"
    },
    {
     "data": {
      "text/plain": [
       "(<gradio.routes.App at 0x7fc89e9fedf0>, 'http://127.0.0.1:7860/', None)"
      ]
     },
     "execution_count": 1,
     "metadata": {},
     "output_type": "execute_result"
    }
   ],
   "source": [
    "import numpy as np\n",
    "import gradio as gr\n",
    "\n",
    "def flip_text(x):\n",
    "    return x[::-1]\n",
    "\n",
    "def flip_image(x):\n",
    "    return np.fliplr(x)\n",
    "\n",
    "with gr.Blocks() as demo:\n",
    "    gr.Markdown(\"Flip text or image files using this demo.\")\n",
    "    with gr.Tab(\"Flip Text\"):\n",
    "        text_input = gr.Textbox()\n",
    "        text_output = gr.Textbox()\n",
    "        text_button = gr.Button(\"Flip\")\n",
    "    with gr.Tab(\"Flip Image\"):\n",
    "        with gr.Row():\n",
    "            image_input = gr.Image()\n",
    "            image_output = gr.Image()\n",
    "        image_button = gr.Button(\"Flip\")\n",
    "\n",
    "    with gr.Accordion(\"Open for More!\"):\n",
    "        gr.Markdown(\"Look at me...\")\n",
    "\n",
    "    text_button.click(flip_text, inputs=text_input, outputs=text_output)\n",
    "    image_button.click(flip_image, inputs=image_input, outputs=image_output)\n",
    "\n",
    "demo.launch()"
   ]
  },
  {
   "cell_type": "markdown",
   "id": "75360e4e",
   "metadata": {},
   "source": [
    "### Visibility"
   ]
  },
  {
   "cell_type": "markdown",
   "id": "eebd3152",
   "metadata": {},
   "source": [
    "Both Components and Layout elements have a visible argument that can set initially and also updated using **gr.update()**. Setting **gr.update(visible=...)** on a Column can be used to show or hide a set of Components."
   ]
  },
  {
   "cell_type": "code",
   "execution_count": 1,
   "id": "de003fa3",
   "metadata": {},
   "outputs": [
    {
     "name": "stdout",
     "output_type": "stream",
     "text": [
      "Running on local URL:  http://127.0.0.1:7860\n",
      "\n",
      "To create a public link, set `share=True` in `launch()`.\n"
     ]
    },
    {
     "data": {
      "text/html": [
       "<div><iframe src=\"http://127.0.0.1:7860/\" width=\"900\" height=\"500\" allow=\"autoplay; camera; microphone; clipboard-read; clipboard-write;\" frameborder=\"0\" allowfullscreen></iframe></div>"
      ],
      "text/plain": [
       "<IPython.core.display.HTML object>"
      ]
     },
     "metadata": {},
     "output_type": "display_data"
    },
    {
     "data": {
      "text/plain": [
       "(<gradio.routes.App at 0x7f39410d8e50>, 'http://127.0.0.1:7860/', None)"
      ]
     },
     "execution_count": 1,
     "metadata": {},
     "output_type": "execute_result"
    }
   ],
   "source": [
    "import gradio as gr\n",
    "\n",
    "with gr.Blocks() as demo:\n",
    "    error_box = gr.Textbox(label=\"Error\", visible=False)\n",
    "\n",
    "    name_box = gr.Textbox(label=\"Name\")\n",
    "    age_box = gr.Number(label=\"Age\")\n",
    "    symptoms_box = gr.CheckboxGroup([\"Cough\", \"Fever\", \"Runny Nose\"])\n",
    "    submit_btn = gr.Button(\"Submit\")\n",
    "\n",
    "    with gr.Column(visible=False) as output_col:\n",
    "        diagnosis_box = gr.Textbox(label=\"Diagnosis\")\n",
    "        patient_summary_box = gr.Textbox(label=\"Patient Summary\")\n",
    "\n",
    "    def submit(name, age, symptoms):\n",
    "        if len(name) == 0:\n",
    "            return {error_box: gr.update(value=\"Enter name\", visible=True)}\n",
    "        if age < 0 or age > 200:\n",
    "            return {error_box: gr.update(value=\"Enter valid age\", visible=True)}\n",
    "        return {\n",
    "            output_col: gr.update(visible=True),\n",
    "            diagnosis_box: \"covid\" if \"Cough\" in symptoms else \"flu\",\n",
    "            patient_summary_box: f\"{name}, {age} y/o\"\n",
    "        }\n",
    "\n",
    "    submit_btn.click(\n",
    "        submit,\n",
    "        [name_box, age_box, symptoms_box],\n",
    "        [error_box, diagnosis_box, patient_summary_box, output_col],\n",
    "    )\n",
    "\n",
    "demo.launch()"
   ]
  },
  {
   "cell_type": "markdown",
   "id": "28dbfe26",
   "metadata": {},
   "source": [
    "### Defining and Rendering Components Separately"
   ]
  },
  {
   "cell_type": "markdown",
   "id": "b13691d3",
   "metadata": {},
   "source": [
    "In some cases, you might want to define components before you actually render them in your UI. For instance, you might want to show an examples section using **gr.Examples** above the corresponding **gr.Textbox** input. Since **gr.Examples** requires as a parameter the input component object, you will need to first define the input component, but then render it later, after you have defined the **gr.Examples** object.\n",
    "\n",
    "The solution to this is to define the **gr.Textbox** outside of the **gr.Blocks()** scope and use the component's **.render()** method wherever you'd like it placed in the UI."
   ]
  },
  {
   "cell_type": "code",
   "execution_count": 1,
   "id": "7e644dde",
   "metadata": {},
   "outputs": [
    {
     "name": "stdout",
     "output_type": "stream",
     "text": [
      "Running on local URL:  http://127.0.0.1:7860\n",
      "\n",
      "To create a public link, set `share=True` in `launch()`.\n"
     ]
    },
    {
     "data": {
      "text/html": [
       "<div><iframe src=\"http://127.0.0.1:7860/\" width=\"900\" height=\"500\" allow=\"autoplay; camera; microphone; clipboard-read; clipboard-write;\" frameborder=\"0\" allowfullscreen></iframe></div>"
      ],
      "text/plain": [
       "<IPython.core.display.HTML object>"
      ]
     },
     "metadata": {},
     "output_type": "display_data"
    },
    {
     "data": {
      "text/plain": [
       "(<gradio.routes.App at 0x7f5d77a38970>, 'http://127.0.0.1:7860/', None)"
      ]
     },
     "execution_count": 1,
     "metadata": {},
     "output_type": "execute_result"
    }
   ],
   "source": [
    "import gradio as gr\n",
    "input_textbox = gr.Textbox()\n",
    "\n",
    "with gr.Blocks() as demo:\n",
    "    gr.Examples([\"hello\", \"bonjour\", \"merhaba\"], input_textbox)\n",
    "    input_textbox.render()\n",
    "\n",
    "demo.launch()"
   ]
  }
 ],
 "metadata": {
  "kernelspec": {
   "display_name": "Python 3 (ipykernel)",
   "language": "python",
   "name": "python3"
  },
  "language_info": {
   "codemirror_mode": {
    "name": "ipython",
    "version": 3
   },
   "file_extension": ".py",
   "mimetype": "text/x-python",
   "name": "python",
   "nbconvert_exporter": "python",
   "pygments_lexer": "ipython3",
   "version": "3.9.12"
  }
 },
 "nbformat": 4,
 "nbformat_minor": 5
}
