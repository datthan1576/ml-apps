{
 "cells": [
  {
   "cell_type": "markdown",
   "id": "5d8fafe1",
   "metadata": {},
   "source": [
    "## Example Inputs"
   ]
  },
  {
   "cell_type": "code",
   "execution_count": 1,
   "id": "3dbeba8b",
   "metadata": {
    "scrolled": true
   },
   "outputs": [
    {
     "name": "stdout",
     "output_type": "stream",
     "text": [
      "Running on local URL:  http://127.0.0.1:7860\n",
      "\n",
      "To create a public link, set `share=True` in `launch()`.\n"
     ]
    },
    {
     "data": {
      "text/html": [
       "<div><iframe src=\"http://127.0.0.1:7860/\" width=\"900\" height=\"500\" allow=\"autoplay; camera; microphone; clipboard-read; clipboard-write;\" frameborder=\"0\" allowfullscreen></iframe></div>"
      ],
      "text/plain": [
       "<IPython.core.display.HTML object>"
      ]
     },
     "metadata": {},
     "output_type": "display_data"
    },
    {
     "data": {
      "text/plain": [
       "(<gradio.routes.App at 0x7f143bee1fa0>, 'http://127.0.0.1:7860/', None)"
      ]
     },
     "execution_count": 1,
     "metadata": {},
     "output_type": "execute_result"
    },
    {
     "name": "stderr",
     "output_type": "stream",
     "text": [
      "Traceback (most recent call last):\n",
      "  File \"/home/dat/anaconda3/lib/python3.9/site-packages/gradio/routes.py\", line 273, in run_predict\n",
      "    output = await app.blocks.process_api(\n",
      "  File \"/home/dat/anaconda3/lib/python3.9/site-packages/gradio/blocks.py\", line 742, in process_api\n",
      "    result = await self.call_function(fn_index, inputs, iterator)\n",
      "  File \"/home/dat/anaconda3/lib/python3.9/site-packages/gradio/blocks.py\", line 653, in call_function\n",
      "    prediction = await anyio.to_thread.run_sync(\n",
      "  File \"/home/dat/anaconda3/lib/python3.9/site-packages/anyio/to_thread.py\", line 28, in run_sync\n",
      "    return await get_asynclib().run_sync_in_worker_thread(func, *args, cancellable=cancellable,\n",
      "  File \"/home/dat/anaconda3/lib/python3.9/site-packages/anyio/_backends/_asyncio.py\", line 818, in run_sync_in_worker_thread\n",
      "    return await future\n",
      "  File \"/home/dat/anaconda3/lib/python3.9/site-packages/anyio/_backends/_asyncio.py\", line 754, in run\n",
      "    result = context.run(func, *args)\n",
      "  File \"/tmp/ipykernel_8772/1296307425.py\", line 12, in calculator\n",
      "    raise gr.Error(\"Cannot divide by zero!\")\n",
      "gradio.exceptions.Error: 'Cannot divide by zero!'\n"
     ]
    }
   ],
   "source": [
    "import gradio as gr\n",
    "\n",
    "def calculator(num1, operation, num2):\n",
    "    if operation == \"add\":\n",
    "        return num1 + num2\n",
    "    elif operation == \"subtract\":\n",
    "        return num1 - num2\n",
    "    elif operation == \"multiply\":\n",
    "        return num1 * num2\n",
    "    elif operation == \"divide\":\n",
    "        if num2 == 0:\n",
    "            raise gr.Error(\"Cannot divide by zero!\")\n",
    "        return num1 / num2\n",
    "\n",
    "demo = gr.Interface(\n",
    "    calculator,\n",
    "    [\n",
    "        \"number\", \n",
    "        gr.Radio([\"add\", \"subtract\", \"multiply\", \"divide\"]),\n",
    "        \"number\"\n",
    "    ],\n",
    "    \"number\",\n",
    "    examples=[\n",
    "        [5, \"add\", 3],\n",
    "        [4, \"divide\", 2],\n",
    "        [-4, \"multiply\", 2.5],\n",
    "        [0, \"subtract\", 1.2],\n",
    "    ],\n",
    "    title=\"Toy Calculator\",\n",
    "    description=\"Here's a sample toy calculator. Enjoy!\",\n",
    ")\n",
    "\n",
    "demo.launch()"
   ]
  },
  {
   "cell_type": "markdown",
   "id": "1ab4749b",
   "metadata": {},
   "source": [
    "## Descriptive Content\n",
    "\n",
    "There are three arguments in the Interface constructor to specify where this content should go:\n",
    "\n",
    "**title**: which accepts text and can display it at the very top of interface, and also becomes the page title.\n",
    "\n",
    "**description**: which accepts text, markdown or HTML and places it right under the title.\n",
    "\n",
    "**article**: which also accepts text, markdown or HTML and places it below the interface.\n",
    "\n",
    "If you're using the Blocks API instead, you can insert text, markdown, or HTML anywhere using the gr.Markdown(...) or gr.HTML(...) components, with descriptive content inside the Component constructor.\n",
    "\n",
    "Another useful keyword argument is label=, which is present in every Component. This modifies the label text at the top of each Component.\n",
    "\n",
    "**gr.Number(label='Age')**"
   ]
  },
  {
   "cell_type": "markdown",
   "id": "c4209af0",
   "metadata": {},
   "source": [
    "## Flagging"
   ]
  },
  {
   "cell_type": "markdown",
   "id": "bfa171f1",
   "metadata": {},
   "source": [
    "+-- sepia.py\n",
    "+-- flagged/\n",
    "|   +---- logs.csv\n",
    "|   +---- im/\n",
    "|   |     +---- 0.png\n",
    "|   |     +---- 1.png\n",
    "|   +---- Output/\n",
    "|   |     +---- 0.png\n",
    "|   |     +---- 1.png"
   ]
  },
  {
   "attachments": {},
   "cell_type": "markdown",
   "id": "0fcdcf14",
   "metadata": {},
   "source": [
    "## Preprocessing and Postprocessing\n",
    "\n",
    "\n",
    "<img src=\"https://gradio.app/assets/img/dataflow.svg\" alt=\"Italian Trulli\">\n"
   ]
  },
  {
   "cell_type": "markdown",
   "id": "642abd66",
   "metadata": {},
   "source": [
    "## Styling\n",
    "\n",
    "- style() method\n",
    "\n",
    "    **img = gr.Image(\"lion.jpg\").style(height='24', rounded=False)**\n",
    "\n",
    "- CSS\n",
    "\n",
    "    **with gr.Interface(css=\".gradio-container {background-color: red}\") as demo:**\n",
    "  ..."
   ]
  },
  {
   "cell_type": "markdown",
   "id": "12234a13",
   "metadata": {},
   "source": [
    "## Queuing\n",
    "\n",
    "If your app expects heavy traffic, use the queue() method to control processing rate. This will queue up calls so only a certain number of requests are processed at a single time. Queueing uses websockets, which also prevent network timeouts, so you should use queueing if the inference time of your function is long (> 1min).\n",
    "\n",
    "With **Interface**:\n",
    "\n",
    "  **demo = gr.Interface(...).queue()**\n",
    "\n",
    "  **demo.launch()**\n",
    "\n",
    "With **Blocks**:\n",
    "\n",
    "**with gr.Blocks() as demo:**\n",
    "\n",
    "    #...\n",
    "    \n",
    "   **demo.queue()**\n",
    "\n",
    "   **demo.launch()**\n",
    "\n",
    "You can control the number of requests processsed at a single time as such:\n",
    "\n",
    "\n",
    "**demo.queue(concurrency_count=3)**\n",
    "\n",
    "\n"
   ]
  },
  {
   "cell_type": "code",
   "execution_count": 3,
   "id": "34797c24",
   "metadata": {
    "scrolled": true
   },
   "outputs": [
    {
     "name": "stdout",
     "output_type": "stream",
     "text": [
      "Running on local URL:  http://127.0.0.1:7861\n",
      "\n",
      "To create a public link, set `share=True` in `launch()`.\n"
     ]
    },
    {
     "data": {
      "text/html": [
       "<div><iframe src=\"http://127.0.0.1:7861/\" width=\"900\" height=\"500\" allow=\"autoplay; camera; microphone; clipboard-read; clipboard-write;\" frameborder=\"0\" allowfullscreen></iframe></div>"
      ],
      "text/plain": [
       "<IPython.core.display.HTML object>"
      ]
     },
     "metadata": {},
     "output_type": "display_data"
    },
    {
     "data": {
      "text/plain": [
       "(<gradio.routes.App at 0x7fe18959ce50>, 'http://127.0.0.1:7861/', None)"
      ]
     },
     "execution_count": 3,
     "metadata": {},
     "output_type": "execute_result"
    },
    {
     "name": "stderr",
     "output_type": "stream",
     "text": [
      "ERROR:    Exception in ASGI application\n",
      "Traceback (most recent call last):\n",
      "  File \"/home/dat/anaconda3/lib/python3.9/site-packages/uvicorn/protocols/websockets/websockets_impl.py\", line 225, in run_asgi\n",
      "    result = await self.app(self.scope, self.asgi_receive, self.asgi_send)\n",
      "  File \"/home/dat/anaconda3/lib/python3.9/site-packages/uvicorn/middleware/proxy_headers.py\", line 78, in __call__\n",
      "    return await self.app(scope, receive, send)\n",
      "  File \"/home/dat/anaconda3/lib/python3.9/site-packages/fastapi/applications.py\", line 270, in __call__\n",
      "    await super().__call__(scope, receive, send)\n",
      "  File \"/home/dat/anaconda3/lib/python3.9/site-packages/starlette/applications.py\", line 124, in __call__\n",
      "    await self.middleware_stack(scope, receive, send)\n",
      "  File \"/home/dat/anaconda3/lib/python3.9/site-packages/starlette/middleware/errors.py\", line 149, in __call__\n",
      "    await self.app(scope, receive, send)\n",
      "  File \"/home/dat/anaconda3/lib/python3.9/site-packages/starlette/middleware/cors.py\", line 76, in __call__\n",
      "    await self.app(scope, receive, send)\n",
      "  File \"/home/dat/anaconda3/lib/python3.9/site-packages/starlette/middleware/exceptions.py\", line 51, in __call__\n",
      "    await self.app(scope, receive, send)\n",
      "  File \"/home/dat/anaconda3/lib/python3.9/site-packages/fastapi/middleware/asyncexitstack.py\", line 21, in __call__\n",
      "    raise e\n",
      "  File \"/home/dat/anaconda3/lib/python3.9/site-packages/fastapi/middleware/asyncexitstack.py\", line 18, in __call__\n",
      "    await self.app(scope, receive, send)\n",
      "  File \"/home/dat/anaconda3/lib/python3.9/site-packages/starlette/routing.py\", line 680, in __call__\n",
      "    await route.handle(scope, receive, send)\n",
      "  File \"/home/dat/anaconda3/lib/python3.9/site-packages/starlette/routing.py\", line 334, in handle\n",
      "    await self.app(scope, receive, send)\n",
      "  File \"/home/dat/anaconda3/lib/python3.9/site-packages/starlette/routing.py\", line 81, in app\n",
      "    await func(session)\n",
      "  File \"/home/dat/anaconda3/lib/python3.9/site-packages/fastapi/routing.py\", line 283, in app\n",
      "    await dependant.call(**values)\n",
      "  File \"/home/dat/anaconda3/lib/python3.9/site-packages/gradio/routes.py\", line 313, in join_queue\n",
      "    rank = app.blocks._queue.push(event)\n",
      "AttributeError: 'Blocks' object has no attribute '_queue'\n",
      "ERROR:    closing handshake failed\n",
      "Traceback (most recent call last):\n",
      "  File \"/home/dat/anaconda3/lib/python3.9/site-packages/websockets/legacy/server.py\", line 240, in handler\n",
      "    await self.close()\n",
      "  File \"/home/dat/anaconda3/lib/python3.9/site-packages/websockets/legacy/protocol.py\", line 750, in close\n",
      "    await asyncio.wait_for(\n",
      "  File \"/home/dat/anaconda3/lib/python3.9/asyncio/tasks.py\", line 479, in wait_for\n",
      "    return fut.result()\n",
      "  File \"/home/dat/anaconda3/lib/python3.9/site-packages/websockets/legacy/protocol.py\", line 1216, in write_close_frame\n",
      "    await self.write_frame(True, OP_CLOSE, data, _state=State.CLOSING)\n",
      "  File \"/home/dat/anaconda3/lib/python3.9/site-packages/websockets/legacy/protocol.py\", line 1189, in write_frame\n",
      "    await self.drain()\n",
      "  File \"/home/dat/anaconda3/lib/python3.9/site-packages/websockets/legacy/protocol.py\", line 1178, in drain\n",
      "    await self.ensure_open()\n",
      "  File \"/home/dat/anaconda3/lib/python3.9/site-packages/websockets/legacy/protocol.py\", line 921, in ensure_open\n",
      "    raise self.connection_closed_exc()\n",
      "websockets.exceptions.ConnectionClosedError: sent 1000 (OK); no close frame received\n"
     ]
    }
   ],
   "source": [
    "import gradio as gr\n",
    "\n",
    "with gr.Blocks() as demo2:\n",
    "    num1 = gr.Number()\n",
    "    num2 = gr.Number()\n",
    "    output = gr.Number()\n",
    "    gr.Button(\"Add\").click(\n",
    "        lambda a, b: a + b, [num1, num2], output)\n",
    "    gr.Button(\"Multiply\").click(\n",
    "        lambda a, b: a * b, [num1, num2], output, queue=True)\n",
    "demo2.launch()"
   ]
  },
  {
   "cell_type": "markdown",
   "id": "47d6d5b5",
   "metadata": {},
   "source": [
    "## Iterative outputs"
   ]
  },
  {
   "cell_type": "code",
   "execution_count": 2,
   "id": "20c2d228",
   "metadata": {
    "scrolled": true
   },
   "outputs": [
    {
     "name": "stdout",
     "output_type": "stream",
     "text": [
      "Running on local URL:  http://127.0.0.1:7860\n",
      "\n",
      "To create a public link, set `share=True` in `launch()`.\n"
     ]
    },
    {
     "data": {
      "text/html": [
       "<div><iframe src=\"http://127.0.0.1:7860/\" width=\"900\" height=\"500\" allow=\"autoplay; camera; microphone; clipboard-read; clipboard-write;\" frameborder=\"0\" allowfullscreen></iframe></div>"
      ],
      "text/plain": [
       "<IPython.core.display.HTML object>"
      ]
     },
     "metadata": {},
     "output_type": "display_data"
    },
    {
     "data": {
      "text/plain": [
       "(<gradio.routes.App at 0x7ff972b35b80>, 'http://127.0.0.1:7860/', None)"
      ]
     },
     "execution_count": 2,
     "metadata": {},
     "output_type": "execute_result"
    }
   ],
   "source": [
    "import gradio as gr\n",
    "import numpy as np\n",
    "import time\n",
    "\n",
    "# define core fn, which returns a generator {steps} times before returning the image\n",
    "def fake_diffusion(steps):\n",
    "    for _ in range(steps):\n",
    "        time.sleep(1)\n",
    "        image = np.random.random((600, 600, 3))\n",
    "        yield image\n",
    "\n",
    "    yield image\n",
    "\n",
    "demo = gr.Interface(fake_diffusion, \n",
    "                    inputs=gr.Slider(1, 10, 3), \n",
    "                    outputs=\"image\")\n",
    "\n",
    "# define queue - required for generators\n",
    "demo.queue()\n",
    "\n",
    "demo.launch()"
   ]
  },
  {
   "cell_type": "code",
   "execution_count": null,
   "id": "85bb71d4",
   "metadata": {},
   "outputs": [],
   "source": []
  }
 ],
 "metadata": {
  "kernelspec": {
   "display_name": "Python 3 (ipykernel)",
   "language": "python",
   "name": "python3"
  },
  "language_info": {
   "codemirror_mode": {
    "name": "ipython",
    "version": 3
   },
   "file_extension": ".py",
   "mimetype": "text/x-python",
   "name": "python",
   "nbconvert_exporter": "python",
   "pygments_lexer": "ipython3",
   "version": "3.9.12"
  }
 },
 "nbformat": 4,
 "nbformat_minor": 5
}
