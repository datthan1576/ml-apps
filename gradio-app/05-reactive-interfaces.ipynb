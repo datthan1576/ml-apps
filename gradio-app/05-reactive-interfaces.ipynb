{
 "cells": [
  {
   "cell_type": "markdown",
   "id": "89461129",
   "metadata": {},
   "source": [
    "## Live interfaces"
   ]
  },
  {
   "cell_type": "code",
   "execution_count": 1,
   "id": "a8499fae",
   "metadata": {
    "scrolled": true
   },
   "outputs": [
    {
     "name": "stderr",
     "output_type": "stream",
     "text": [
      "/home/dat/anaconda3/lib/python3.9/site-packages/gradio/blocks.py:150: UserWarning: api_name predict already exists, using predict_1\n",
      "  warnings.warn(\n",
      "/home/dat/anaconda3/lib/python3.9/site-packages/gradio/blocks.py:150: UserWarning: api_name predict already exists, using predict_2\n",
      "  warnings.warn(\n"
     ]
    },
    {
     "name": "stdout",
     "output_type": "stream",
     "text": [
      "Running on local URL:  http://127.0.0.1:7860\n",
      "\n",
      "To create a public link, set `share=True` in `launch()`.\n"
     ]
    },
    {
     "data": {
      "text/html": [
       "<div><iframe src=\"http://127.0.0.1:7860/\" width=\"900\" height=\"500\" allow=\"autoplay; camera; microphone; clipboard-read; clipboard-write;\" frameborder=\"0\" allowfullscreen></iframe></div>"
      ],
      "text/plain": [
       "<IPython.core.display.HTML object>"
      ]
     },
     "metadata": {},
     "output_type": "display_data"
    },
    {
     "data": {
      "text/plain": [
       "(<gradio.routes.App at 0x7f692bb70700>, 'http://127.0.0.1:7860/', None)"
      ]
     },
     "execution_count": 1,
     "metadata": {},
     "output_type": "execute_result"
    },
    {
     "name": "stderr",
     "output_type": "stream",
     "text": [
      "Traceback (most recent call last):\n",
      "  File \"/home/dat/anaconda3/lib/python3.9/site-packages/gradio/routes.py\", line 273, in run_predict\n",
      "    output = await app.blocks.process_api(\n",
      "  File \"/home/dat/anaconda3/lib/python3.9/site-packages/gradio/blocks.py\", line 742, in process_api\n",
      "    result = await self.call_function(fn_index, inputs, iterator)\n",
      "  File \"/home/dat/anaconda3/lib/python3.9/site-packages/gradio/blocks.py\", line 653, in call_function\n",
      "    prediction = await anyio.to_thread.run_sync(\n",
      "  File \"/home/dat/anaconda3/lib/python3.9/site-packages/anyio/to_thread.py\", line 28, in run_sync\n",
      "    return await get_asynclib().run_sync_in_worker_thread(func, *args, cancellable=cancellable,\n",
      "  File \"/home/dat/anaconda3/lib/python3.9/site-packages/anyio/_backends/_asyncio.py\", line 818, in run_sync_in_worker_thread\n",
      "    return await future\n",
      "  File \"/home/dat/anaconda3/lib/python3.9/site-packages/anyio/_backends/_asyncio.py\", line 754, in run\n",
      "    result = context.run(func, *args)\n",
      "  File \"/tmp/ipykernel_22980/1999856755.py\", line 7, in calculator\n",
      "    return num1 - num2\n",
      "TypeError: unsupported operand type(s) for -: 'float' and 'NoneType'\n"
     ]
    }
   ],
   "source": [
    "import gradio as gr\n",
    "\n",
    "def calculator(num1, operation, num2):\n",
    "    if operation == \"add\":\n",
    "        return num1 + num2\n",
    "    elif operation == \"subtract\":\n",
    "        return num1 - num2\n",
    "    elif operation == \"multiply\":\n",
    "        return num1 * num2\n",
    "    elif operation == \"divide\":\n",
    "        return num1 / num2\n",
    "\n",
    "demo = gr.Interface(\n",
    "    calculator,\n",
    "    [\n",
    "        \"number\",\n",
    "        gr.Radio([\"add\", \"subtract\", \"multiply\", \"divide\"]),\n",
    "        \"number\"\n",
    "    ],\n",
    "    \"number\",\n",
    "    live=True,\n",
    ")\n",
    "demo.launch()\n"
   ]
  },
  {
   "cell_type": "markdown",
   "id": "5b614d44",
   "metadata": {},
   "source": [
    "## Streaming Components"
   ]
  },
  {
   "cell_type": "markdown",
   "id": "e9669b64",
   "metadata": {},
   "source": [
    "Some components have a \"streaming\" mode, such as **Audio** component in microphone mode, or the **Image** component in webcam mode. Streaming means data is sent continuously to the backend and the **Interface** function is continuously being rerun.\n",
    "\n",
    "The difference between **gr.Audio(source='microphone')** and **gr.Audio(source='microphone', streaming=True)**, when both are used in **gr.Interface(live=True)**, is that the first Component will automatically submit data and run the **Interface** function when the user stops recording, whereas the second **Component** will continuously send data and run the **Interface** function during recording.\n",
    "\n",
    "Here is example code of streaming images from the webcam."
   ]
  },
  {
   "cell_type": "code",
   "execution_count": 1,
   "id": "69e9f947",
   "metadata": {},
   "outputs": [
    {
     "name": "stdout",
     "output_type": "stream",
     "text": [
      "Running on local URL:  http://127.0.0.1:7860\n",
      "\n",
      "To create a public link, set `share=True` in `launch()`.\n"
     ]
    },
    {
     "data": {
      "text/html": [
       "<div><iframe src=\"http://127.0.0.1:7860/\" width=\"900\" height=\"500\" allow=\"autoplay; camera; microphone; clipboard-read; clipboard-write;\" frameborder=\"0\" allowfullscreen></iframe></div>"
      ],
      "text/plain": [
       "<IPython.core.display.HTML object>"
      ]
     },
     "metadata": {},
     "output_type": "display_data"
    },
    {
     "data": {
      "text/plain": [
       "(<gradio.routes.App at 0x7f6950aec1c0>, 'http://127.0.0.1:7860/', None)"
      ]
     },
     "execution_count": 1,
     "metadata": {},
     "output_type": "execute_result"
    }
   ],
   "source": [
    "import gradio as gr\n",
    "import numpy as np\n",
    "\n",
    "def flip(im):\n",
    "    return np.flipud(im)\n",
    "\n",
    "demo = gr.Interface(\n",
    "    flip, \n",
    "    gr.Image(source=\"webcam\", streaming=True), \n",
    "    \"image\",\n",
    "    live=True\n",
    ")\n",
    "demo.launch()"
   ]
  }
 ],
 "metadata": {
  "kernelspec": {
   "display_name": "Python 3 (ipykernel)",
   "language": "python",
   "name": "python3"
  },
  "language_info": {
   "codemirror_mode": {
    "name": "ipython",
    "version": 3
   },
   "file_extension": ".py",
   "mimetype": "text/x-python",
   "name": "python",
   "nbconvert_exporter": "python",
   "pygments_lexer": "ipython3",
   "version": "3.9.12"
  }
 },
 "nbformat": 4,
 "nbformat_minor": 5
}
