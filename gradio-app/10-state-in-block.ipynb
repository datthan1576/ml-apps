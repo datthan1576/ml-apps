{
 "cells": [
  {
   "cell_type": "markdown",
   "id": "a1132265",
   "metadata": {},
   "source": [
    "## Global State\n",
    "Global state in Blocks works the same as in Interface. Any variable created outside a function call is a reference shared between all users."
   ]
  },
  {
   "cell_type": "markdown",
   "id": "60a613c7",
   "metadata": {},
   "source": [
    "## Session State\n",
    "Gradio supports session state, where data persists across multiple submits within a page session, in Blocks apps as well. To reiterate, session data is not shared between different users of your model. To store data in a session state, you need to do three things:\n",
    "\n",
    "- Create a **gr.State()** object. If there is a default value to this stateful object, pass that into the constructor.\n",
    "- In the event listener, put the **State** object as an input and output.\n",
    "- In the event listener function, add the variable to the input parameters and the return value.\n",
    "\n",
    "Let's take a look at a game of hangman."
   ]
  },
  {
   "cell_type": "code",
   "execution_count": 1,
   "id": "a9645fcc",
   "metadata": {},
   "outputs": [
    {
     "name": "stdout",
     "output_type": "stream",
     "text": [
      "Running on local URL:  http://127.0.0.1:7860\n",
      "\n",
      "To create a public link, set `share=True` in `launch()`.\n"
     ]
    },
    {
     "data": {
      "text/html": [
       "<div><iframe src=\"http://127.0.0.1:7860/\" width=\"900\" height=\"500\" allow=\"autoplay; camera; microphone; clipboard-read; clipboard-write;\" frameborder=\"0\" allowfullscreen></iframe></div>"
      ],
      "text/plain": [
       "<IPython.core.display.HTML object>"
      ]
     },
     "metadata": {},
     "output_type": "display_data"
    },
    {
     "data": {
      "text/plain": [
       "(<gradio.routes.App at 0x7f5cabe329d0>, 'http://127.0.0.1:7860/', None)"
      ]
     },
     "execution_count": 1,
     "metadata": {},
     "output_type": "execute_result"
    }
   ],
   "source": [
    "import gradio as gr\n",
    "import random\n",
    "\n",
    "secret_word = \"gradio\"\n",
    "\n",
    "with gr.Blocks() as demo:    \n",
    "    used_letters_var = gr.State([])\n",
    "    with gr.Row() as row:\n",
    "        with gr.Column():\n",
    "            input_letter = gr.Textbox(label=\"Enter letter\")\n",
    "            btn = gr.Button(\"Guess Letter\")\n",
    "        with gr.Column():\n",
    "            hangman = gr.Textbox(\n",
    "                label=\"Hangman\",\n",
    "                value=\"_\"*len(secret_word)\n",
    "            )\n",
    "            used_letters_box = gr.Textbox(label=\"Used Letters\")\n",
    "\n",
    "    def guess_letter(letter, used_letters):\n",
    "        used_letters.append(letter)\n",
    "        answer = \"\".join([\n",
    "            (letter if letter in used_letters else \"_\")\n",
    "            for letter in secret_word\n",
    "        ])\n",
    "        return {\n",
    "            used_letters_var: used_letters,\n",
    "            used_letters_box: \", \".join(used_letters),\n",
    "            hangman: answer\n",
    "        }\n",
    "    btn.click(\n",
    "        guess_letter, \n",
    "        [input_letter, used_letters_var],\n",
    "        [used_letters_var, used_letters_box, hangman]\n",
    "        )\n",
    "    \n",
    "demo.launch()"
   ]
  },
  {
   "cell_type": "markdown",
   "id": "62f68dd3",
   "metadata": {},
   "source": [
    "Let's see how we do each of the 3 steps listed above in this game:\n",
    "\n",
    "1. We store the used letters in **used_letters_var**. In the constructor of **State**, we set the initial value of this to **[]**, an empty list.\n",
    "\n",
    "2. In **btn.click()**, we have a reference to **used_letters_var** in both the inputs and outputs.\n",
    "3. In **guess_letter**, we pass the value of this **State** to **used_letters**, and then return an updated value of this **State in** the return statement.\n",
    "\n",
    "With more complex apps, you will likely have many State variables storing session state in a single Blocks app."
   ]
  }
 ],
 "metadata": {
  "kernelspec": {
   "display_name": "Python 3 (ipykernel)",
   "language": "python",
   "name": "python3"
  },
  "language_info": {
   "codemirror_mode": {
    "name": "ipython",
    "version": 3
   },
   "file_extension": ".py",
   "mimetype": "text/x-python",
   "name": "python",
   "nbconvert_exporter": "python",
   "pygments_lexer": "ipython3",
   "version": "3.9.12"
  }
 },
 "nbformat": 4,
 "nbformat_minor": 5
}
