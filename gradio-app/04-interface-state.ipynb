{
 "cells": [
  {
   "cell_type": "markdown",
   "id": "1f293956",
   "metadata": {},
   "source": [
    "## All Gradio's attributes"
   ]
  },
  {
   "cell_type": "code",
   "execution_count": 1,
   "id": "286e41d8",
   "metadata": {},
   "outputs": [
    {
     "name": "stdout",
     "output_type": "stream",
     "text": [
      "Help on built-in function dir in module builtins:\n",
      "\n",
      "dir(...)\n",
      "    dir([object]) -> list of strings\n",
      "    \n",
      "    If called without an argument, return the names in the current scope.\n",
      "    Else, return an alphabetized list of names comprising (some of) the attributes\n",
      "    of the given object, and of attributes reachable from it.\n",
      "    If the object supplies a method named __dir__, it will be used; otherwise\n",
      "    the default dir() logic is used and returns:\n",
      "      for a module object: the module's attributes.\n",
      "      for a class object:  its attributes, and recursively the attributes\n",
      "        of its bases.\n",
      "      for any other object: its attributes, its class's attributes, and\n",
      "        recursively the attributes of its class's base classes.\n",
      "\n"
     ]
    }
   ],
   "source": [
    "help(dir)"
   ]
  },
  {
   "cell_type": "code",
   "execution_count": 2,
   "id": "0837f8b9",
   "metadata": {},
   "outputs": [
    {
     "data": {
      "text/plain": [
       "['Accordion',\n",
       " 'Audio',\n",
       " 'Blocks',\n",
       " 'Box',\n",
       " 'Button',\n",
       " 'CSVLogger',\n",
       " 'Carousel',\n",
       " 'Chatbot',\n",
       " 'Checkbox',\n",
       " 'CheckboxGroup',\n",
       " 'Checkboxgroup',\n",
       " 'ColorPicker',\n",
       " 'Column',\n",
       " 'DataFrame',\n",
       " 'Dataframe',\n",
       " 'Dataset',\n",
       " 'Dropdown',\n",
       " 'Error',\n",
       " 'Examples',\n",
       " 'File',\n",
       " 'Files',\n",
       " 'FlaggingCallback',\n",
       " 'Gallery',\n",
       " 'Group',\n",
       " 'HTML',\n",
       " 'Highlight',\n",
       " 'HighlightedText',\n",
       " 'Highlightedtext',\n",
       " 'HuggingFaceDatasetJSONSaver',\n",
       " 'HuggingFaceDatasetSaver',\n",
       " 'Image',\n",
       " 'ImageMask',\n",
       " 'ImagePaint',\n",
       " 'Interface',\n",
       " 'Interpretation',\n",
       " 'JSON',\n",
       " 'Json',\n",
       " 'Label',\n",
       " 'List',\n",
       " 'Markdown',\n",
       " 'Matrix',\n",
       " 'Mic',\n",
       " 'Microphone',\n",
       " 'Model3D',\n",
       " 'Number',\n",
       " 'Numpy',\n",
       " 'Paint',\n",
       " 'Parallel',\n",
       " 'Pil',\n",
       " 'PlayableVideo',\n",
       " 'Plot',\n",
       " 'Radio',\n",
       " 'Row',\n",
       " 'Series',\n",
       " 'SimpleCSVLogger',\n",
       " 'Sketchpad',\n",
       " 'Slider',\n",
       " 'State',\n",
       " 'StatusTracker',\n",
       " 'Tab',\n",
       " 'TabItem',\n",
       " 'TabbedInterface',\n",
       " 'Tabs',\n",
       " 'Text',\n",
       " 'TextArea',\n",
       " 'Textbox',\n",
       " 'TimeSeries',\n",
       " 'Timeseries',\n",
       " 'Variable',\n",
       " 'Video',\n",
       " 'Webcam',\n",
       " '__builtins__',\n",
       " '__cached__',\n",
       " '__doc__',\n",
       " '__file__',\n",
       " '__loader__',\n",
       " '__name__',\n",
       " '__package__',\n",
       " '__path__',\n",
       " '__spec__',\n",
       " '__version__',\n",
       " 'blocks',\n",
       " 'close_all',\n",
       " 'component',\n",
       " 'components',\n",
       " 'context',\n",
       " 'current_pkg_version',\n",
       " 'deprecation',\n",
       " 'documentation',\n",
       " 'encryptor',\n",
       " 'events',\n",
       " 'examples',\n",
       " 'exceptions',\n",
       " 'external',\n",
       " 'flagging',\n",
       " 'gradio',\n",
       " 'inputs',\n",
       " 'interface',\n",
       " 'interpretation',\n",
       " 'ipython_ext',\n",
       " 'layouts',\n",
       " 'load_ipython_extension',\n",
       " 'media_data',\n",
       " 'mix',\n",
       " 'networking',\n",
       " 'outputs',\n",
       " 'pkgutil',\n",
       " 'processing_utils',\n",
       " 'queue',\n",
       " 'routes',\n",
       " 'serializing',\n",
       " 'skip',\n",
       " 'strings',\n",
       " 'templates',\n",
       " 'tunneling',\n",
       " 'update',\n",
       " 'utils']"
      ]
     },
     "execution_count": 2,
     "metadata": {},
     "output_type": "execute_result"
    }
   ],
   "source": [
    "import gradio as gr\n",
    "dir(gr)"
   ]
  },
  {
   "cell_type": "markdown",
   "id": "f57fdc91",
   "metadata": {},
   "source": [
    "## Interface State"
   ]
  },
  {
   "cell_type": "markdown",
   "id": "5ed6476b",
   "metadata": {},
   "source": [
    "### Global State"
   ]
  },
  {
   "cell_type": "code",
   "execution_count": 1,
   "id": "a333ffa7",
   "metadata": {
    "scrolled": true
   },
   "outputs": [
    {
     "name": "stdout",
     "output_type": "stream",
     "text": [
      "Running on local URL:  http://127.0.0.1:7861\n",
      "\n",
      "To create a public link, set `share=True` in `launch()`.\n"
     ]
    },
    {
     "data": {
      "text/html": [
       "<div><iframe src=\"http://127.0.0.1:7861/\" width=\"900\" height=\"500\" allow=\"autoplay; camera; microphone; clipboard-read; clipboard-write;\" frameborder=\"0\" allowfullscreen></iframe></div>"
      ],
      "text/plain": [
       "<IPython.core.display.HTML object>"
      ]
     },
     "metadata": {},
     "output_type": "display_data"
    },
    {
     "data": {
      "text/plain": [
       "(<gradio.routes.App at 0x7f68940753a0>, 'http://127.0.0.1:7861/', None)"
      ]
     },
     "execution_count": 1,
     "metadata": {},
     "output_type": "execute_result"
    }
   ],
   "source": [
    "import gradio as gr\n",
    "\n",
    "# global\n",
    "scores = []\n",
    "\n",
    "def track_score(score):\n",
    "    scores.append(score)\n",
    "    top_scores = sorted(scores, reverse=True)[:3]\n",
    "    return top_scores\n",
    "\n",
    "demo = gr.Interface(\n",
    "    track_score, \n",
    "    gr.Number(label=\"Score\"), \n",
    "    gr.JSON(label=\"Top Scores\")\n",
    ")\n",
    "\n",
    "demo.launch()"
   ]
  },
  {
   "cell_type": "markdown",
   "id": "01560452",
   "metadata": {},
   "source": [
    "## Session State"
   ]
  },
  {
   "cell_type": "markdown",
   "id": "73841360",
   "metadata": {},
   "source": [
    "Another type of data persistence Gradio supports is session state, where data persists across multiple submits within a page session. However, data is not shared between different users of your model. To store data in a session state, you need to do three things:\n",
    "\n",
    "- Pass in an extra parameter into your function, which represents the state of the interface.\n",
    "- At the end of the function, return the updated value of the state as an extra return value.\n",
    "- Add the 'state' input and 'state' output components when creating your Interface\n",
    "A chatbot is an example where you would need session state - you want access to a users previous submissions, but you cannot store chat history in a global variable, because then chat history would get jumbled between different users."
   ]
  },
  {
   "cell_type": "code",
   "execution_count": 2,
   "id": "2c925897",
   "metadata": {},
   "outputs": [
    {
     "name": "stdout",
     "output_type": "stream",
     "text": [
      "Running on local URL:  http://127.0.0.1:7860\n",
      "\n",
      "To create a public link, set `share=True` in `launch()`.\n"
     ]
    },
    {
     "data": {
      "text/html": [
       "<div><iframe src=\"http://127.0.0.1:7860/\" width=\"900\" height=\"500\" allow=\"autoplay; camera; microphone; clipboard-read; clipboard-write;\" frameborder=\"0\" allowfullscreen></iframe></div>"
      ],
      "text/plain": [
       "<IPython.core.display.HTML object>"
      ]
     },
     "metadata": {},
     "output_type": "display_data"
    },
    {
     "data": {
      "text/plain": [
       "(<gradio.routes.App at 0x7f68d58c9310>, 'http://127.0.0.1:7860/', None)"
      ]
     },
     "execution_count": 2,
     "metadata": {},
     "output_type": "execute_result"
    }
   ],
   "source": [
    "# Chatbot example\n",
    "import random\n",
    "import gradio as gr\n",
    "\n",
    "# history ~ state of interface\n",
    "def chat(message, history):\n",
    "    history = history or []\n",
    "    message = message.lower()\n",
    "    if message.startswith(\"how many\"):\n",
    "        response = random.randint(1, 10)\n",
    "    elif message.startswith(\"how\"):\n",
    "        response = random.choice([\"Great\", \"Good\", \"Okay\", \"Bad\"])\n",
    "    elif message.startswith(\"where\"):\n",
    "        response = random.choice([\"Here\", \"There\", \"Somewhere\"])\n",
    "    else:\n",
    "        response = \"I don't know\"\n",
    "    history.append((message, response))\n",
    "    # return updated value of state as an extra return value\n",
    "    return history, history\n",
    "\n",
    "chatbot = gr.Chatbot().style(color_map=(\"green\", \"pink\"))\n",
    "# add state input and state output\n",
    "demo = gr.Interface(\n",
    "    chat,\n",
    "    [\"text\", \"state\"],\n",
    "    [chatbot, \"state\"],\n",
    "    allow_flagging=\"never\",\n",
    ")\n",
    "demo.launch()"
   ]
  },
  {
   "cell_type": "markdown",
   "id": "17050475",
   "metadata": {},
   "source": [
    "Notice how the state persists across submits within each page, but if you load this demo in another tab (or refresh the page), the demos will not share chat history.\n",
    "\n",
    "The default value of state is **None**. If you pass a default value to the state parameter of the function, it is used as the default value of the state instead. The Interface class only supports a single input and outputs state variable, though it can be a list with multiple elements. **For more complex use cases, you can use Blocks, which supports multiple State variables.**"
   ]
  }
 ],
 "metadata": {
  "kernelspec": {
   "display_name": "Python 3 (ipykernel)",
   "language": "python",
   "name": "python3"
  },
  "language_info": {
   "codemirror_mode": {
    "name": "ipython",
    "version": 3
   },
   "file_extension": ".py",
   "mimetype": "text/x-python",
   "name": "python",
   "nbconvert_exporter": "python",
   "pygments_lexer": "ipython3",
   "version": "3.9.12"
  }
 },
 "nbformat": 4,
 "nbformat_minor": 5
}
