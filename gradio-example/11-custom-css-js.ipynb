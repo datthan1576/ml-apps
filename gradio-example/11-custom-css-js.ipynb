{
 "cells": [
  {
   "cell_type": "markdown",
   "id": "80138f67",
   "metadata": {},
   "source": [
    "## Custom CSS"
   ]
  },
  {
   "cell_type": "markdown",
   "id": "f8b42921",
   "metadata": {},
   "source": [
    "For additional styling ability, you can pass any CSS to your app using the css= kwarg.\n",
    "\n",
    "The base class for the Gradio app is gradio-container, so here's an example that changes the background color of the Gradio app:"
   ]
  },
  {
   "cell_type": "markdown",
   "id": "e5ca01f4",
   "metadata": {},
   "source": [
    "**with gr.Blocks(css=\".gradio-container {background-color: red}\") as demo:**\n",
    "\n",
    "    ..."
   ]
  },
  {
   "cell_type": "markdown",
   "id": "1a16aa52",
   "metadata": {},
   "source": [
    "If you'd like to reference external files in your css, preface the file path (which can be a relative or absolute path) with **\"file=\"**, for example:"
   ]
  },
  {
   "cell_type": "markdown",
   "id": "d37539c9",
   "metadata": {},
   "source": [
    "**with gr.Blocks(css=\".gradio-container {background-image: url('file=clouds.jpg')}\") as demo:**\n",
    "\n",
    "    ...\n",
    "    \n",
    "You can also pass the filepath to a CSS file to the css argument.\n"
   ]
  },
  {
   "cell_type": "markdown",
   "id": "cb15535b",
   "metadata": {},
   "source": [
    "## Custom JS\n",
    "\n",
    "Event listeners have a **_js** argument that can take a Javascript function as a string and treat it just like a Python event listener function. You can pass both a Javascript function and a Python function (in which case the Javascript function is run first) or only Javascript (and set the Python **fn** to **None**). Take a look at the code below:"
   ]
  },
  {
   "cell_type": "code",
   "execution_count": 2,
   "id": "c6a5e86d",
   "metadata": {},
   "outputs": [
    {
     "name": "stdout",
     "output_type": "stream",
     "text": [
      "Running on local URL:  http://127.0.0.1:7860\n",
      "\n",
      "To create a public link, set `share=True` in `launch()`.\n"
     ]
    },
    {
     "data": {
      "text/html": [
       "<div><iframe src=\"http://127.0.0.1:7860/\" width=\"900\" height=\"500\" allow=\"autoplay; camera; microphone; clipboard-read; clipboard-write;\" frameborder=\"0\" allowfullscreen></iframe></div>"
      ],
      "text/plain": [
       "<IPython.core.display.HTML object>"
      ]
     },
     "metadata": {},
     "output_type": "display_data"
    },
    {
     "data": {
      "text/plain": [
       "(<gradio.routes.App at 0x7fd816a3a190>, 'http://127.0.0.1:7860/', None)"
      ]
     },
     "execution_count": 2,
     "metadata": {},
     "output_type": "execute_result"
    }
   ],
   "source": [
    "import gradio as gr\n",
    "\n",
    "blocks = gr.Blocks()\n",
    "\n",
    "with blocks as demo:\n",
    "    subject = gr.Textbox(placeholder=\"subject\")\n",
    "    verb = gr.Radio([\"ate\", \"loved\", \"hated\"])\n",
    "    object = gr.Textbox(placeholder=\"object\")\n",
    "\n",
    "    with gr.Row():\n",
    "        btn = gr.Button(\"Create sentence.\")\n",
    "        reverse_btn = gr.Button(\"Reverse sentence.\")\n",
    "        foo_bar_btn = gr.Button(\"Foo bar.\")\n",
    "\n",
    "    def sentence_maker(w1, w2, w3):\n",
    "        return f\"{w1} {w2} {w3}\"\n",
    "\n",
    "    output1 = gr.Textbox(label=\"output 1\")\n",
    "    output2 = gr.Textbox(label=\"verb\")\n",
    "    output3 = gr.Textbox(label=\"verb reversed\")\n",
    "\n",
    "    btn.click(sentence_maker, [subject, verb, object], output1)\n",
    "    reverse_btn.click(None, [subject, verb, object], output2, _js=\"(s, v, o) => o + ' ' + v + ' ' + s\")\n",
    "    verb.change(lambda x: x, verb, output3, _js=\"(x) => [...x].reverse().join('')\")\n",
    "    foo_bar_btn.click(None, [], subject, _js=\"(x) => x + ' foo'\")\n",
    "\n",
    "demo.launch()"
   ]
  },
  {
   "cell_type": "code",
   "execution_count": null,
   "id": "31cf994c",
   "metadata": {},
   "outputs": [],
   "source": []
  }
 ],
 "metadata": {
  "kernelspec": {
   "display_name": "Python 3 (ipykernel)",
   "language": "python",
   "name": "python3"
  },
  "language_info": {
   "codemirror_mode": {
    "name": "ipython",
    "version": 3
   },
   "file_extension": ".py",
   "mimetype": "text/x-python",
   "name": "python",
   "nbconvert_exporter": "python",
   "pygments_lexer": "ipython3",
   "version": "3.9.12"
  }
 },
 "nbformat": 4,
 "nbformat_minor": 5
}
