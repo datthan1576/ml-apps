{
 "cells": [
  {
   "cell_type": "markdown",
   "id": "49121053",
   "metadata": {},
   "source": [
    "**Providing Examples**"
   ]
  },
  {
   "cell_type": "markdown",
   "id": "27332c26",
   "metadata": {},
   "source": [
    "As covered in the Quickstart, adding examples to an Interface is as easy as providing a list of lists to the examples keyword argument. Each sublist is a data sample, where each element corresponds to an input of the prediction function. The inputs must be ordered in the same order as the prediction function expects them.\n",
    "\n",
    "If your interface only has one input component, then you can provide your examples as a regular list instead of a list of lists."
   ]
  },
  {
   "cell_type": "markdown",
   "id": "103aaaed",
   "metadata": {},
   "source": [
    "**Loading Examples from a Directory**"
   ]
  },
  {
   "cell_type": "markdown",
   "id": "fb837226",
   "metadata": {},
   "source": [
    "You can also specify a path to a directory containing your examples. \n",
    "If your Interface takes only a single file-type input, e.g. an image classifier, \n",
    "you can simply pass a directory filepath to the examples= argument, \n",
    "and the Interface will load the images in the directory as examples. \n",
    "In the case of multiple inputs, this directory must contain a log.csv file \n",
    "with the example values. In the context of the calculator demo, we can set examples='/demo/calculator/examples' and in that directory we include the following log.csv file:"
   ]
  },
  {
   "cell_type": "raw",
   "id": "c80ec0d6",
   "metadata": {},
   "source": [
    "num,operation,num2\n",
    "5,\"add\",3\n",
    "4,\"divide\",2\n",
    "5,\"multiply\",3"
   ]
  },
  {
   "cell_type": "markdown",
   "id": "11ff5a6a",
   "metadata": {},
   "source": [
    "This can be helpful when browsing flagged data. Simply point to the flagged directory and the Interface will load the examples from the flagged data."
   ]
  },
  {
   "cell_type": "markdown",
   "id": "6eb5ecf9",
   "metadata": {},
   "source": [
    "**Providing Partial Examples**"
   ]
  },
  {
   "cell_type": "markdown",
   "id": "e0c121a4",
   "metadata": {},
   "source": [
    "Sometimes your app has many input components, but you would only like to provide examples for a subset of them. In order to exclude some inputs from the examples, pass None for all data samples corresponding to those particular components."
   ]
  },
  {
   "cell_type": "markdown",
   "id": "0f843d4e",
   "metadata": {},
   "source": [
    "**Caching examples**"
   ]
  },
  {
   "cell_type": "markdown",
   "id": "a7deb4d3",
   "metadata": {},
   "source": [
    "You may wish to provide some cached examples of your model for users to quickly try out, in case your model takes a while to run normally. If cache_examples=True, the Interface will run all of your examples through your app and save the outputs when you call the launch() method. This data will be saved in a directory called gradio_cached_examples.\n",
    "\n",
    "Whenever a user clicks on an example, the output will automatically be populated in the app now, using data from this cached directory instead of actually running the function. This is useful so users can quickly try out your model without adding any load!\n",
    "\n",
    "Keep in mind once the cache is generated, it will not be updated in future launches. If the examples or function logic change, delete the cache folder to clear the cache and rebuild it with another launch()."
   ]
  }
 ],
 "metadata": {
  "kernelspec": {
   "display_name": "Python 3 (ipykernel)",
   "language": "python",
   "name": "python3"
  },
  "language_info": {
   "codemirror_mode": {
    "name": "ipython",
    "version": 3
   },
   "file_extension": ".py",
   "mimetype": "text/x-python",
   "name": "python",
   "nbconvert_exporter": "python",
   "pygments_lexer": "ipython3",
   "version": "3.9.12"
  }
 },
 "nbformat": 4,
 "nbformat_minor": 5
}
