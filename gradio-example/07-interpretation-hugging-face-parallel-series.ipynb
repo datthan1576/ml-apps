{
 "cells": [
  {
   "cell_type": "markdown",
   "id": "ef26ab87",
   "metadata": {},
   "source": [
    "## Interpreting your Predictions"
   ]
  },
  {
   "cell_type": "code",
   "execution_count": 3,
   "id": "740b91d2",
   "metadata": {},
   "outputs": [
    {
     "name": "stderr",
     "output_type": "stream",
     "text": [
      "2022-10-06 14:19:39.302591: I tensorflow/core/platform/cpu_feature_guard.cc:193] This TensorFlow binary is optimized with oneAPI Deep Neural Network Library (oneDNN) to use the following CPU instructions in performance-critical operations:  AVX2 AVX_VNNI FMA\n",
      "To enable them in other operations, rebuild TensorFlow with the appropriate compiler flags.\n",
      "2022-10-06 14:19:39.377064: I tensorflow/core/util/util.cc:169] oneDNN custom operations are on. You may see slightly different numerical results due to floating-point round-off errors from different computation orders. To turn them off, set the environment variable `TF_ENABLE_ONEDNN_OPTS=0`.\n",
      "2022-10-06 14:19:39.380031: W tensorflow/stream_executor/platform/default/dso_loader.cc:64] Could not load dynamic library 'libcudart.so.11.0'; dlerror: libcudart.so.11.0: cannot open shared object file: No such file or directory\n",
      "2022-10-06 14:19:39.380038: I tensorflow/stream_executor/cuda/cudart_stub.cc:29] Ignore above cudart dlerror if you do not have a GPU set up on your machine.\n",
      "2022-10-06 14:19:39.395076: E tensorflow/stream_executor/cuda/cuda_blas.cc:2981] Unable to register cuBLAS factory: Attempting to register factory for plugin cuBLAS when one has already been registered\n",
      "2022-10-06 14:19:39.745441: W tensorflow/stream_executor/platform/default/dso_loader.cc:64] Could not load dynamic library 'libnvinfer.so.7'; dlerror: libnvinfer.so.7: cannot open shared object file: No such file or directory\n",
      "2022-10-06 14:19:39.745477: W tensorflow/stream_executor/platform/default/dso_loader.cc:64] Could not load dynamic library 'libnvinfer_plugin.so.7'; dlerror: libnvinfer_plugin.so.7: cannot open shared object file: No such file or directory\n",
      "2022-10-06 14:19:39.745480: W tensorflow/compiler/tf2tensorrt/utils/py_utils.cc:38] TF-TRT Warning: Cannot dlopen some TensorRT libraries. If you would like to use Nvidia GPU with TensorRT, please make sure the missing libraries mentioned above are installed properly.\n",
      "2022-10-06 14:19:41.739541: W tensorflow/stream_executor/platform/default/dso_loader.cc:64] Could not load dynamic library 'libcuda.so.1'; dlerror: libcuda.so.1: cannot open shared object file: No such file or directory\n",
      "2022-10-06 14:19:41.739555: W tensorflow/stream_executor/cuda/cuda_driver.cc:263] failed call to cuInit: UNKNOWN ERROR (303)\n",
      "2022-10-06 14:19:41.739563: I tensorflow/stream_executor/cuda/cuda_diagnostics.cc:156] kernel driver does not appear to be running on this host (dat-yyy): /proc/driver/nvidia/version does not exist\n",
      "2022-10-06 14:19:41.739669: I tensorflow/core/platform/cpu_feature_guard.cc:193] This TensorFlow binary is optimized with oneAPI Deep Neural Network Library (oneDNN) to use the following CPU instructions in performance-critical operations:  AVX2 AVX_VNNI FMA\n",
      "To enable them in other operations, rebuild TensorFlow with the appropriate compiler flags.\n"
     ]
    },
    {
     "name": "stdout",
     "output_type": "stream",
     "text": [
      "Downloading data from https://storage.googleapis.com/tensorflow/keras-applications/mobilenet_v2/mobilenet_v2_weights_tf_dim_ordering_tf_kernels_1.0_224.h5\n",
      "14536120/14536120 [==============================] - 1s 0us/step\n",
      "Running on local URL:  http://127.0.0.1:7860\n",
      "\n",
      "To create a public link, set `share=True` in `launch()`.\n"
     ]
    },
    {
     "data": {
      "text/html": [
       "<div><iframe src=\"http://127.0.0.1:7860/\" width=\"900\" height=\"500\" allow=\"autoplay; camera; microphone; clipboard-read; clipboard-write;\" frameborder=\"0\" allowfullscreen></iframe></div>"
      ],
      "text/plain": [
       "<IPython.core.display.HTML object>"
      ]
     },
     "metadata": {},
     "output_type": "display_data"
    },
    {
     "data": {
      "text/plain": [
       "(<gradio.routes.App at 0x7f74724e36a0>, 'http://127.0.0.1:7860/', None)"
      ]
     },
     "execution_count": 3,
     "metadata": {},
     "output_type": "execute_result"
    },
    {
     "name": "stdout",
     "output_type": "stream",
     "text": [
      "1/1 [==============================] - 0s 443ms/step\n"
     ]
    }
   ],
   "source": [
    "# Classification using MobileNetV2\n",
    "import requests\n",
    "import tensorflow as tf\n",
    "\n",
    "import gradio as gr\n",
    "\n",
    "inception_net = tf.keras.applications.MobileNetV2()  # load the model\n",
    "\n",
    "# Download human-readable labels for ImageNet.\n",
    "response = requests.get(\"https://git.io/JJkYN\")\n",
    "labels = response.text.split(\"\\n\")\n",
    "\n",
    "\n",
    "def classify_image(inp):\n",
    "    inp = inp.reshape((-1, 224, 224, 3))\n",
    "    inp = tf.keras.applications.mobilenet_v2.preprocess_input(inp)\n",
    "    prediction = inception_net.predict(inp).flatten()\n",
    "    return {labels[i]: float(prediction[i]) for i in range(1000)}\n",
    "\n",
    "\n",
    "image = gr.Image(shape=(224, 224))\n",
    "label = gr.Label(num_top_classes=3)\n",
    "\n",
    "demo = gr.Interface(\n",
    "    fn=classify_image, inputs=image, outputs=label, interpretation=\"default\"\n",
    ")\n",
    "\n",
    "demo.launch()\n"
   ]
  },
  {
   "cell_type": "code",
   "execution_count": 1,
   "id": "82aaefe6",
   "metadata": {},
   "outputs": [
    {
     "name": "stdout",
     "output_type": "stream",
     "text": [
      "Running on local URL:  http://127.0.0.1:7860\n",
      "\n",
      "To create a public link, set `share=True` in `launch()`.\n"
     ]
    },
    {
     "data": {
      "text/html": [
       "<div><iframe src=\"http://127.0.0.1:7860/\" width=\"900\" height=\"500\" allow=\"autoplay; camera; microphone; clipboard-read; clipboard-write;\" frameborder=\"0\" allowfullscreen></iframe></div>"
      ],
      "text/plain": [
       "<IPython.core.display.HTML object>"
      ]
     },
     "metadata": {},
     "output_type": "display_data"
    },
    {
     "data": {
      "text/plain": [
       "(<gradio.routes.App at 0x7fa5d17f91c0>, 'http://127.0.0.1:7860/', None)"
      ]
     },
     "execution_count": 1,
     "metadata": {},
     "output_type": "execute_result"
    }
   ],
   "source": [
    "# sex prediction\n",
    "import gradio as gr\n",
    "\n",
    "male_words, female_words = [\"he\", \"his\", \"him\"], [\"she\", \"hers\", \"her\"]\n",
    "\n",
    "\n",
    "def gender_of_sentence(sentence):\n",
    "    male_count = len([word for word in sentence.split() if word.lower() in male_words])\n",
    "    female_count = len(\n",
    "        [word for word in sentence.split() if word.lower() in female_words]\n",
    "    )\n",
    "    total = max(male_count + female_count, 1)\n",
    "    return {\"male\": male_count / total, \"female\": female_count / total}\n",
    "\n",
    "# default interpretation\n",
    "demo = gr.Interface(\n",
    "    fn=gender_of_sentence,\n",
    "    inputs=gr.Textbox(value=\"She went to his house to get her keys.\"),\n",
    "    outputs=\"label\",\n",
    "    interpretation=\"default\",\n",
    ")\n",
    "\n",
    "demo.launch()"
   ]
  },
  {
   "cell_type": "code",
   "execution_count": 1,
   "id": "fd721c91",
   "metadata": {},
   "outputs": [
    {
     "name": "stdout",
     "output_type": "stream",
     "text": [
      "Running on local URL:  http://127.0.0.1:7860\n",
      "\n",
      "To create a public link, set `share=True` in `launch()`.\n"
     ]
    },
    {
     "data": {
      "text/html": [
       "<div><iframe src=\"http://127.0.0.1:7860/\" width=\"900\" height=\"500\" allow=\"autoplay; camera; microphone; clipboard-read; clipboard-write;\" frameborder=\"0\" allowfullscreen></iframe></div>"
      ],
      "text/plain": [
       "<IPython.core.display.HTML object>"
      ]
     },
     "metadata": {},
     "output_type": "display_data"
    },
    {
     "data": {
      "text/plain": [
       "(<gradio.routes.App at 0x7fded3f7f250>, 'http://127.0.0.1:7860/', None)"
      ]
     },
     "execution_count": 1,
     "metadata": {},
     "output_type": "execute_result"
    }
   ],
   "source": [
    "import re\n",
    "\n",
    "import gradio as gr\n",
    "\n",
    "male_words, female_words = [\"he\", \"his\", \"him\"], [\"she\", \"hers\", \"her\"]\n",
    "\n",
    "\n",
    "def gender_of_sentence(sentence):\n",
    "    male_count = len([word for word in sentence.split() if word.lower() in male_words])\n",
    "    female_count = len(\n",
    "        [word for word in sentence.split() if word.lower() in female_words]\n",
    "    )\n",
    "    total = max(male_count + female_count, 1)\n",
    "    return {\"male\": male_count / total, \"female\": female_count / total}\n",
    "\n",
    "\n",
    "# Number of arguments to interpretation function must\n",
    "# match number of inputs to prediction function\n",
    "def interpret_gender(sentence):\n",
    "    result = gender_of_sentence(sentence)\n",
    "    is_male = result[\"male\"] > result[\"female\"]\n",
    "    interpretation = []\n",
    "    for word in re.split(\"( )\", sentence):\n",
    "        score = 0\n",
    "        token = word.lower()\n",
    "        if (is_male and token in male_words) or (not is_male and token in female_words):\n",
    "            score = 1\n",
    "        elif (is_male and token in female_words) or (\n",
    "            not is_male and token in male_words\n",
    "        ):\n",
    "            score = -1\n",
    "        interpretation.append((word, score))\n",
    "    # Output must be a list of lists containing the same number of elements as inputs\n",
    "    # Each element corresponds to the interpretation scores for the given input\n",
    "    return [interpretation]\n",
    "\n",
    "# custom interpretation using interpret_gender() function\n",
    "demo = gr.Interface(\n",
    "    fn=gender_of_sentence,\n",
    "    inputs=gr.Textbox(value=\"She went to his house to get her keys.\"),\n",
    "    outputs=\"label\",\n",
    "    interpretation=interpret_gender,\n",
    ")\n",
    "\n",
    "demo.launch()"
   ]
  },
  {
   "cell_type": "markdown",
   "id": "7282ab2b",
   "metadata": {},
   "source": [
    "## Custom Styling"
   ]
  },
  {
   "cell_type": "markdown",
   "id": "900a5ec1",
   "metadata": {},
   "source": [
    "If you'd like to have more fine-grained control over any aspect of your demo, you can also write your own css or pass in a filepath to a css file, with the css parameter of the Interface class."
   ]
  },
  {
   "cell_type": "markdown",
   "id": "d7e6af13",
   "metadata": {},
   "source": [
    "gr.Interface(..., css=\"body {background-color: red}\")\n",
    "\n",
    "If you'd like to reference external files in your css, preface the file path (which can be a relative or absolute path) with \"file=\", for example:\n",
    "\n",
    "gr.Interface(..., css=\"body {background-image: url('file=clouds.jpg')}\")\n"
   ]
  },
  {
   "cell_type": "markdown",
   "id": "166c66b5",
   "metadata": {},
   "source": [
    "## Loading Hugging Face Models and Spaces\n",
    "\n",
    "Gradio integrates nicely with the Hugging Face Hub, allowing you to load models and Spaces with just one line of code. To use this, simply use the load() method in the Interface class. So:\n",
    "\n",
    "To load any model from the Hugging Face Hub and create an interface around it, you pass \"model/\" or \"huggingface/\" followed by the model name, like these examples:\n",
    "\n"
   ]
  },
  {
   "cell_type": "code",
   "execution_count": 2,
   "id": "4ca7e519",
   "metadata": {},
   "outputs": [],
   "source": [
    "# gr.Interface.load(\"huggingface/EleutherAI/gpt-j-6B\", \n",
    "#     inputs=gr.Textbox(lines=5, label=\"Input Text\")  # customizes the input component\n",
    "# ).launch()"
   ]
  },
  {
   "cell_type": "markdown",
   "id": "25aba0c9",
   "metadata": {},
   "source": [
    "To load any Space from the Hugging Face Hub and recreate it locally (so that you can customize the inputs and outputs for example), you pass \"spaces/\" followed by the model name:"
   ]
  },
  {
   "cell_type": "code",
   "execution_count": 3,
   "id": "3c2683d4",
   "metadata": {},
   "outputs": [],
   "source": [
    "# gr.Interface.load(\"spaces/eugenesiow/remove-bg\", inputs=\"webcam\", \n",
    "#                   title=\"Remove your webcam background!\").launch()"
   ]
  },
  {
   "cell_type": "markdown",
   "id": "013a9d71",
   "metadata": {},
   "source": [
    "One of the great things about loading Hugging Face models or spaces using Gradio is that you can then immediately use the resulting Interface object just like function in your Python code (this works for every type of model/space: text, images, audio, video, and even multimodal models):"
   ]
  },
  {
   "cell_type": "code",
   "execution_count": 4,
   "id": "0b63e782",
   "metadata": {},
   "outputs": [],
   "source": [
    "# io = gr.Interface.load(\"models/EleutherAI/gpt-neo-2.7B\")\n",
    "# io(\"It was the best of times\")  # outputs model completion"
   ]
  },
  {
   "cell_type": "code",
   "execution_count": 6,
   "id": "631d4b50",
   "metadata": {},
   "outputs": [
    {
     "name": "stdout",
     "output_type": "stream",
     "text": [
      "Fetching model from: https://huggingface.co/gpt2\n",
      "Running on local URL:  http://127.0.0.1:7860\n",
      "\n",
      "To create a public link, set `share=True` in `launch()`.\n"
     ]
    },
    {
     "data": {
      "text/html": [
       "<div><iframe src=\"http://127.0.0.1:7860/\" width=\"900\" height=\"500\" allow=\"autoplay; camera; microphone; clipboard-read; clipboard-write;\" frameborder=\"0\" allowfullscreen></iframe></div>"
      ],
      "text/plain": [
       "<IPython.core.display.HTML object>"
      ]
     },
     "metadata": {},
     "output_type": "display_data"
    }
   ],
   "source": [
    "# example for HuggingFace\n",
    "import gradio as gr\n",
    "gr.Interface.load(\"huggingface/gpt2\").launch();"
   ]
  },
  {
   "cell_type": "markdown",
   "id": "196b95c1",
   "metadata": {},
   "source": [
    "## Putting Interfaces in Parallel and Series"
   ]
  },
  {
   "cell_type": "markdown",
   "id": "cd2fe768",
   "metadata": {},
   "source": [
    "**Gradio also lets you mix interfaces very easily using the gradio.Parallel and gradio.Series classes. Parallel lets you put two similar models (if they have the same input type) in parallel to compare model predictions:**"
   ]
  },
  {
   "cell_type": "code",
   "execution_count": 2,
   "id": "1eb2e6fe",
   "metadata": {},
   "outputs": [
    {
     "name": "stdout",
     "output_type": "stream",
     "text": [
      "Fetching model from: https://huggingface.co/gpt2\n",
      "Fetching model from: https://huggingface.co/EleutherAI/gpt-neo-2.7B\n",
      "Fetching model from: https://huggingface.co/EleutherAI/gpt-j-6B\n",
      "\n",
      "Thanks for being a Gradio user! If you have questions or feedback, please join our Discord server and chat with us: https://discord.gg/feTf9x3ZSB\n",
      "Running on local URL:  http://127.0.0.1:7860\n",
      "\n",
      "To create a public link, set `share=True` in `launch()`.\n"
     ]
    },
    {
     "data": {
      "text/html": [
       "<div><iframe src=\"http://127.0.0.1:7860/\" width=\"900\" height=\"500\" allow=\"autoplay; camera; microphone; clipboard-read; clipboard-write;\" frameborder=\"0\" allowfullscreen></iframe></div>"
      ],
      "text/plain": [
       "<IPython.core.display.HTML object>"
      ]
     },
     "metadata": {},
     "output_type": "display_data"
    },
    {
     "data": {
      "text/plain": [
       "(<gradio.routes.App at 0x7f93201631f0>, 'http://127.0.0.1:7860/', None)"
      ]
     },
     "execution_count": 2,
     "metadata": {},
     "output_type": "execute_result"
    }
   ],
   "source": [
    "# parallel\n",
    "import gradio as gr\n",
    "generator1 = gr.Interface.load(\"huggingface/gpt2\")\n",
    "generator2 = gr.Interface.load(\"huggingface/EleutherAI/gpt-neo-2.7B\")\n",
    "generator3 = gr.Interface.load(\"huggingface/EleutherAI/gpt-j-6B\")\n",
    "gr.Parallel(generator1, generator2, generator3).launch()"
   ]
  },
  {
   "cell_type": "markdown",
   "id": "f9b6bd5a",
   "metadata": {},
   "source": [
    "**Series lets you put models and spaces in series, piping the output of one model into the input of the next model.**"
   ]
  },
  {
   "cell_type": "markdown",
   "id": "5631e0a4",
   "metadata": {},
   "source": [
    "**This demo generates text, then translates it to German, and outputs the final result**"
   ]
  },
  {
   "cell_type": "code",
   "execution_count": 1,
   "id": "1474d7cc",
   "metadata": {},
   "outputs": [
    {
     "name": "stdout",
     "output_type": "stream",
     "text": [
      "Fetching model from: https://huggingface.co/gpt2\n",
      "Fetching model from: https://huggingface.co/t5-small\n",
      "Running on local URL:  http://127.0.0.1:7860\n",
      "\n",
      "To create a public link, set `share=True` in `launch()`.\n"
     ]
    },
    {
     "data": {
      "text/html": [
       "<div><iframe src=\"http://127.0.0.1:7860/\" width=\"900\" height=\"500\" allow=\"autoplay; camera; microphone; clipboard-read; clipboard-write;\" frameborder=\"0\" allowfullscreen></iframe></div>"
      ],
      "text/plain": [
       "<IPython.core.display.HTML object>"
      ]
     },
     "metadata": {},
     "output_type": "display_data"
    },
    {
     "data": {
      "text/plain": [
       "(<gradio.routes.App at 0x7f7a2305aa00>, 'http://127.0.0.1:7860/', None)"
      ]
     },
     "execution_count": 1,
     "metadata": {},
     "output_type": "execute_result"
    }
   ],
   "source": [
    "import gradio as gr\n",
    "\n",
    "generator = gr.Interface.load(\"huggingface/gpt2\")\n",
    "translator = gr.Interface.load(\"huggingface/t5-small\")\n",
    "gr.Series(generator, translator).launch()"
   ]
  }
 ],
 "metadata": {
  "kernelspec": {
   "display_name": "Python 3 (ipykernel)",
   "language": "python",
   "name": "python3"
  },
  "language_info": {
   "codemirror_mode": {
    "name": "ipython",
    "version": 3
   },
   "file_extension": ".py",
   "mimetype": "text/x-python",
   "name": "python",
   "nbconvert_exporter": "python",
   "pygments_lexer": "ipython3",
   "version": "3.9.12"
  }
 },
 "nbformat": 4,
 "nbformat_minor": 5
}
